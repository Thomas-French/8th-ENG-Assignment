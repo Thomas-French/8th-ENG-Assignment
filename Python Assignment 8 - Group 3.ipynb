{
 "cells": [
  {
   "cell_type": "markdown",
   "id": "9e53df4d",
   "metadata": {},
   "source": [
    "# <center>Weekly Python Assignment 8 - Group 3</center> #"
   ]
  },
  {
   "cell_type": "markdown",
   "id": "19aa4fc7",
   "metadata": {},
   "source": [
    "<b>Instructions:</b> For each exercise below, type the requested code into the cell below the exercise, then run your code to verify that it works correctly.<br><br>\n",
    "<div>\n",
    "    <div style=\"float:left;width:35%;\">\n",
    "        <b>Color Code (nonfunctional in Google Colab):</b><br>\n",
    "        - <mark style=\"color:purple;background:none\">External File/Imported Module</mark><br>\n",
    "        - <mark style=\"color:#EEC83A;background:none\">User-created Function</mark><br>\n",
    "        - <mark style=\"color:green;background:none\">Python/Imported Function</mark><br>\n",
    "        - <mark style=\"color:#EE6B3A;background:none\">Name-specific Data Structure</mark><br>\n",
    "    </div>\n",
    "    <div style=\"float:left;width:65%;\">\n",
    "        <b>Relative Difficulty & Complexity</b><br>\n",
    "        - <b>Easy (E):</b> Covered during the week's lecture. Typically single-step question<br>\n",
    "        - <b>Medium (M):</b> Some combination with topics previously covered. Mostly double-step question<br>\n",
    "        - <b>Hard (H):</b> Combination with topics previously covered. Multi-step question<br>\n",
    "    </div>\n",
    "</div>\n",
    "<div style=\"float:left;width:100%;\">\n",
    "    <br><b>Breakdown:</b> 9 (E), 1 (M), & 0 (H)\n",
    "</div>"
   ]
  },
  {
   "cell_type": "markdown",
   "id": "abd642dc",
   "metadata": {},
   "source": [
    "<b>1(E).</b> Import the <mark style=\"color:purple;background:none\">pandas</mark> module. Read the file \"stocks.csv\" and set it equal to the dataframe <mark style=\"color:#EE6B3A;background:none\">df</mark>."
   ]
  },
  {
   "cell_type": "code",
   "execution_count": 67,
   "id": "38194796",
   "metadata": {},
   "outputs": [],
   "source": [
    "import pandas as pd#imports\n",
    "\n",
    "df=pd.read_csv(\"stocks.csv\")#using read csv to create a pandas data frame df from stocks.csv"
   ]
  },
  {
   "cell_type": "markdown",
   "id": "1a81a8d8",
   "metadata": {},
   "source": [
    "<b>2(E).</b> Display just the first five lines of <mark style=\"color:#EE6B3A;background:none\">df</mark>."
   ]
  },
  {
   "cell_type": "code",
   "execution_count": 68,
   "id": "fd32e941",
   "metadata": {},
   "outputs": [
    {
     "name": "stdout",
     "output_type": "stream",
     "text": [
      "  Symbol  Dividend   Price  52-week low  52-week high    P/E  Dividend Yield\n",
      "0   AAPL     0.880  173.28     116.2100        182.94  30.87          0.0051\n",
      "1   ABBV     5.640  135.87     101.8117        138.15  32.34          0.0415\n",
      "2    ADP     4.160  228.75     159.3100        248.96  36.18          0.0182\n",
      "3    AES     0.632   23.06      22.6000         29.07  30.09          0.0274\n",
      "4   AGNC     1.440   15.35      14.4150         18.84   5.72          0.0941\n"
     ]
    }
   ],
   "source": [
    "print(pd.DataFrame.head(df))#using head to print the first five rows"
   ]
  },
  {
   "cell_type": "markdown",
   "id": "40a7a3a3",
   "metadata": {},
   "source": [
    "<b>3(E).</b> Display just the columns \"Symbol\" and \"Dividend\" of <mark style=\"color:#EE6B3A;background:none\">df</mark>."
   ]
  },
  {
   "cell_type": "code",
   "execution_count": 69,
   "id": "2e5aba5a",
   "metadata": {},
   "outputs": [
    {
     "name": "stdout",
     "output_type": "stream",
     "text": [
      "   Symbol  Dividend\n",
      "0    AAPL    0.8800\n",
      "1    ABBV    5.6400\n",
      "2     ADP    4.1600\n",
      "3     AES    0.6320\n",
      "4    AGNC    1.4400\n",
      "5    AVGO   16.4000\n",
      "6     BGX    0.9360\n",
      "7    BRMK    0.8400\n",
      "8    BXMT    2.4800\n",
      "9     CAT    4.4400\n",
      "10    CIM    1.3200\n",
      "11   CSWC    1.8800\n",
      "12    CVX    5.3600\n",
      "13    DUK    3.9400\n",
      "14     ED    3.1000\n",
      "15    EMR    2.0600\n",
      "16    ETV    1.3296\n",
      "17    ETW    0.8724\n",
      "18    ETY    1.1148\n",
      "19    HON    3.9200\n",
      "20     HP    1.0000\n",
      "21   HTGC    1.3200\n",
      "22    IGD    0.4800\n",
      "23   INTC    1.3900\n",
      "24    ITW    4.8800\n",
      "25    JNJ    4.2400\n",
      "26    KMB    4.5600\n",
      "27    LMT   11.2000\n",
      "28   MAIN    2.5800\n",
      "29    MCD    5.5200\n",
      "30    MRK    2.7600\n",
      "31   MSFT    2.4800\n",
      "32    NLY    0.8800\n",
      "33    NRZ    1.0000\n",
      "34   NYMT    0.4000\n",
      "35    OKE    3.7400\n",
      "36    OPP    1.8708\n",
      "37   OXLC    0.9000\n",
      "38   PBCT    0.7300\n",
      "39    PDI    2.6460\n",
      "40    PFE    1.6000\n",
      "41    PFL    0.9768\n",
      "42    PFN    0.8616\n",
      "43   QYLD    2.5800\n",
      "44     RA    2.3880\n",
      "45    RTX    2.0400\n",
      "46     SO    2.6400\n",
      "47   STWD    1.9200\n",
      "48      T    2.0800\n",
      "49    VOO    5.4367\n",
      "50    VXF    2.0633\n",
      "51    VYM    3.0961\n",
      "52     VZ    2.5600\n"
     ]
    }
   ],
   "source": [
    "print(df[[\"Symbol\",\"Dividend\"]])#printing the \"Symbol\" and \"Dividend\" rows of the data frame"
   ]
  },
  {
   "cell_type": "markdown",
   "id": "9f77d20f",
   "metadata": {},
   "source": [
    "<b>4(E).</b> Display just rows 3 and 4 of the column \"Price\" of <mark style=\"color:#EE6B3A;background:none\">df</mark>."
   ]
  },
  {
   "cell_type": "code",
   "execution_count": 70,
   "id": "0e0241fb",
   "metadata": {},
   "outputs": [
    {
     "name": "stdout",
     "output_type": "stream",
     "text": [
      "3    23.06\n",
      "4    15.35\n",
      "Name: Price, dtype: float64\n"
     ]
    }
   ],
   "source": [
    "print(df.loc[3:4][\"Price\"])#using loc to show rows 3 and 4 of \"Price\" column"
   ]
  },
  {
   "cell_type": "markdown",
   "id": "a18a422b",
   "metadata": {},
   "source": [
    "<b>5(E).</b> Display the value of the maximum dividend in <mark style=\"color:#EE6B3A;background:none\">df</mark>."
   ]
  },
  {
   "cell_type": "code",
   "execution_count": 71,
   "id": "117245b5",
   "metadata": {},
   "outputs": [
    {
     "name": "stdout",
     "output_type": "stream",
     "text": [
      "16.4\n"
     ]
    }
   ],
   "source": [
    "print(max(df[\"Dividend\"]))#using max to find max value in the \"Dividend column"
   ]
  },
  {
   "cell_type": "markdown",
   "id": "554a68e9",
   "metadata": {},
   "source": [
    "<b>6(E).</b> Create a new column called \"High vs. Low\" which is the difference between the 52-week high and 52-week low columns. Display <mark style=\"color:#EE6B3A;background:none\">df</mark> after the addition to confirm its creation."
   ]
  },
  {
   "cell_type": "code",
   "execution_count": 72,
   "id": "6e87234a",
   "metadata": {},
   "outputs": [
    {
     "name": "stdout",
     "output_type": "stream",
     "text": [
      "  Symbol  Dividend   Price  52-week low  52-week high    P/E  Dividend Yield  \\\n",
      "0   AAPL     0.880  173.28     116.2100        182.94  30.87          0.0051   \n",
      "1   ABBV     5.640  135.87     101.8117        138.15  32.34          0.0415   \n",
      "2    ADP     4.160  228.75     159.3100        248.96  36.18          0.0182   \n",
      "3    AES     0.632   23.06      22.6000         29.07  30.09          0.0274   \n",
      "4   AGNC     1.440   15.35      14.4150         18.84   5.72          0.0941   \n",
      "\n",
      "   High vs. Low  \n",
      "0       66.7300  \n",
      "1       36.3383  \n",
      "2       89.6500  \n",
      "3        6.4700  \n",
      "4        4.4250  \n"
     ]
    }
   ],
   "source": [
    "df[\"High vs. Low\"]=df[\"52-week high\"]-df[\"52-week low\"]#creating new column that is high-low for every row\n",
    "print(pd.DataFrame.head(df))#printing "
   ]
  },
  {
   "cell_type": "markdown",
   "id": "47e36f78",
   "metadata": {},
   "source": [
    "<b>7(M).</b> Create a new dataframe containing data for just the stocks with dividend yield greater than 4% and Price less than 80. Plot its dividends against its \"High vs. Low\" column. "
   ]
  },
  {
   "cell_type": "code",
   "execution_count": 73,
   "id": "e7c68bed",
   "metadata": {},
   "outputs": [
    {
     "data": {
      "image/png": "[encoded data removed]",
      "text/plain": [
       "<Figure size 432x288 with 1 Axes>"
      ]
     },
     "metadata": {
      "needs_background": "light"
     },
     "output_type": "display_data"
    }
   ],
   "source": [
    "import matplotlib.pyplot as plt#imports\n",
    "\n",
    "new_df=df.loc[(df[\"Dividend Yield\"]>.04) & (df[\"Price\"]<80)]#creating new df with only values of DY >.04 and Price<80\n",
    "x=new_df[\"Dividend\"]#setting dividend values to x\n",
    "y=new_df[\"High vs. Low\"]#setting high low to y\n",
    "plt.title(\"Dividend Plotted Against High to Low Difference\")#give the graph a title\n",
    "plt.xlabel(\"Dividend\")#giving the axis titles\n",
    "plt.ylabel(\"High vs. Low\")\n",
    "plt.scatter(x, y,c=\"red\", alpha=0.5)#making the scatter graph\n",
    "plt.show()#showing the graph"
   ]
  },
  {
   "cell_type": "markdown",
   "id": "6ea3ed36",
   "metadata": {},
   "source": [
    "<b>8(E).</b> Delete the \"High vs. Low\" column from <mark style=\"color:#EE6B3A;background:none\">df</mark>. Display <mark style=\"color:#EE6B3A;background:none\">df</mark> to confirm successful deletion."
   ]
  },
  {
   "cell_type": "code",
   "execution_count": 74,
   "id": "dd354a64",
   "metadata": {},
   "outputs": [
    {
     "name": "stdout",
     "output_type": "stream",
     "text": [
      "  Symbol  Dividend   Price  52-week low  52-week high    P/E  Dividend Yield\n",
      "0   AAPL     0.880  173.28     116.2100        182.94  30.87          0.0051\n",
      "1   ABBV     5.640  135.87     101.8117        138.15  32.34          0.0415\n",
      "2    ADP     4.160  228.75     159.3100        248.96  36.18          0.0182\n",
      "3    AES     0.632   23.06      22.6000         29.07  30.09          0.0274\n",
      "4   AGNC     1.440   15.35      14.4150         18.84   5.72          0.0941\n"
     ]
    }
   ],
   "source": [
    "del df[\"High vs. Low\"]#deleting the \"High vs. Low\" column\n",
    "print(pd.DataFrame.head(df))#printing "
   ]
  },
  {
   "cell_type": "markdown",
   "id": "cc1ce90d",
   "metadata": {},
   "source": [
    "<b>9(E).</b> Change the value for the Dividend of the stock ED from 3.1 to 3.2. Then change the dividend yield from 0.0371 to 0.0382. Display just the data for the stock ED to confirm the changes were made successfully."
   ]
  },
  {
   "cell_type": "code",
   "execution_count": 75,
   "id": "96f6ff6e",
   "metadata": {},
   "outputs": [
    {
     "name": "stdout",
     "output_type": "stream",
     "text": [
      "Int64Index([14], dtype='int64')\n",
      "   Symbol  Dividend  Price  52-week low  52-week high    P/E  Dividend Yield\n",
      "14     ED       3.2  83.52        65.56         86.25  24.93          0.0382\n"
     ]
    }
   ],
   "source": [
    "\n",
    "print(df.loc[df[\"Symbol\"]==\"ED\"].index)#using loc and index we can get the index of where the desired row of values is in this case 14\n",
    "df.loc[df.index[14], 'Dividend']=3.2#using loc and index to set the value to 3.2\n",
    "df.loc[df.index[14], 'Dividend Yield']=0.0382#using loc and index to set the value to 0.0382\n",
    "print(df.loc[[14]])#printing row 14"
   ]
  },
  {
   "cell_type": "markdown",
   "id": "fac87b1d",
   "metadata": {},
   "source": [
    "<b>10(E).</b> Find and print out the stock symbols with missing values of P/E. \n",
    "\n",
    "<b>Hint:</b> Use the method discussed at the end of the class lecture)"
   ]
  },
  {
   "cell_type": "code",
   "execution_count": 76,
   "id": "01d1ef34",
   "metadata": {},
   "outputs": [
    {
     "name": "stdout",
     "output_type": "stream",
     "text": [
      "6      BGX\n",
      "17     ETW\n",
      "20      HP\n",
      "41     PFL\n",
      "43    QYLD\n",
      "49     VOO\n",
      "50     VXF\n",
      "51     VYM\n",
      "Name: Symbol, dtype: object\n"
     ]
    }
   ],
   "source": [
    "missPE=df.loc[(df[\"P/E\"]== \"--\")][\"Symbol\"]#the df has been formatted where all non values are string\"--\" so we get the Symbols for all rows with this string in P/E\n",
    "print(missPE)#printing"
   ]
  },
  {
   "cell_type": "code",
   "execution_count": null,
   "id": "8bf21e19-5ee7-4754-9c60-95e31b2b55f3",
   "metadata": {},
   "outputs": [],
   "source": []
  }
 ],
 "metadata": {
  "kernelspec": {
   "display_name": "Python 3 (ipykernel)",
   "language": "python",
   "name": "python3"
  },
  "language_info": {
   "codemirror_mode": {
    "name": "ipython",
    "version": 3
   },
   "file_extension": ".py",
   "mimetype": "text/x-python",
   "name": "python",
   "nbconvert_exporter": "python",
   "pygments_lexer": "ipython3",
   "version": "3.8.2"
  }
 },
 "nbformat": 4,
 "nbformat_minor": 5
}
